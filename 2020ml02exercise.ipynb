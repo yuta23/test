{
  "nbformat": 4,
  "nbformat_minor": 0,
  "metadata": {
    "kernelspec": {
      "display_name": "Python 3",
      "language": "python",
      "name": "python3"
    },
    "language_info": {
      "codemirror_mode": {
        "name": "ipython",
        "version": 3
      },
      "file_extension": ".py",
      "mimetype": "text/x-python",
      "name": "python",
      "nbconvert_exporter": "python",
      "pygments_lexer": "ipython3",
      "version": "3.8.3"
    },
    "colab": {
      "name": "2020ml02exercise.ipynb",
      "provenance": [],
      "collapsed_sections": [],
      "include_colab_link": true
    }
  },
  "cells": [
    {
      "cell_type": "markdown",
      "metadata": {
        "id": "view-in-github",
        "colab_type": "text"
      },
      "source": [
        "<a href=\"https://colab.research.google.com/github/yuta23/test/blob/master/2020ml02exercise.ipynb\" target=\"_parent\"><img src=\"https://colab.research.google.com/assets/colab-badge.svg\" alt=\"Open In Colab\"/></a>"
      ]
    },
    {
      "cell_type": "markdown",
      "metadata": {
        "id": "Tm57MuilRXRp"
      },
      "source": [
        "# 演習問題"
      ]
    },
    {
      "cell_type": "code",
      "metadata": {
        "id": "lXLWkEzAR09t"
      },
      "source": [
        "!pip install japanize-matplotlib"
      ],
      "execution_count": null,
      "outputs": []
    },
    {
      "cell_type": "code",
      "metadata": {
        "id": "cj0KE9zcRXRq"
      },
      "source": [
        "import matplotlib\n",
        "import matplotlib.pyplot as plt\n",
        "import japanize_matplotlib\n",
        "import numpy as np"
      ],
      "execution_count": null,
      "outputs": []
    },
    {
      "cell_type": "markdown",
      "metadata": {
        "id": "mJqIl8mNRXRq"
      },
      "source": [
        "## 1. 基本的な計算"
      ]
    },
    {
      "cell_type": "markdown",
      "metadata": {
        "id": "018HwNnkRXRq"
      },
      "source": [
        "$2^{16}-1$を計算せよ．"
      ]
    },
    {
      "cell_type": "code",
      "metadata": {
        "tags": [
          "hide"
        ],
        "id": "U50mquUHRXRq"
      },
      "source": [
        "2**16-1"
      ],
      "execution_count": null,
      "outputs": []
    },
    {
      "cell_type": "markdown",
      "metadata": {
        "id": "xaklmOEsRXRq"
      },
      "source": [
        "## 2. 変数"
      ]
    },
    {
      "cell_type": "markdown",
      "metadata": {
        "id": "ipkUUaGkRXRq"
      },
      "source": [
        "変数$x = 3, y = 4$を定義して，$x^2 + 2xy + y^2$を計算せよ．"
      ]
    },
    {
      "cell_type": "code",
      "metadata": {
        "tags": [
          "hide"
        ],
        "id": "6JImcrs4RXRq"
      },
      "source": [
        ""
      ],
      "execution_count": null,
      "outputs": []
    },
    {
      "cell_type": "markdown",
      "metadata": {
        "id": "bieXSbMfRXRq"
      },
      "source": [
        "## 3. 実行制御"
      ]
    },
    {
      "cell_type": "markdown",
      "metadata": {
        "id": "eciviSDRRXRq"
      },
      "source": [
        "### 3.1) for文\n",
        "for文を使って，$s = \\displaystyle \\prod_{i=1}^{8} 2$を計算せよ．また，この計算結果と同じ結果を得ることができる演算をプログラムで説明せよ．"
      ]
    },
    {
      "cell_type": "code",
      "metadata": {
        "id": "xbaGEIkORXRq"
      },
      "source": [
        ""
      ],
      "execution_count": null,
      "outputs": []
    },
    {
      "cell_type": "code",
      "metadata": {
        "id": "0Dg2SsnBRXRr"
      },
      "source": [
        ""
      ],
      "execution_count": null,
      "outputs": []
    },
    {
      "cell_type": "code",
      "metadata": {
        "tags": [
          "hide"
        ],
        "id": "uLi-idkuRXRr"
      },
      "source": [
        ""
      ],
      "execution_count": null,
      "outputs": []
    },
    {
      "cell_type": "markdown",
      "metadata": {
        "id": "H6gtTCWLRXRr"
      },
      "source": [
        "### 3.2) if文"
      ]
    },
    {
      "cell_type": "markdown",
      "metadata": {
        "id": "kJ3cAampRXRr"
      },
      "source": [
        "$1$から$40$までの小さい順の整数に関して，$3$の倍数と$3$が付く整数には`aho`と表示し，$5$の倍数には`wan`と表示し，この2つの条件を満たす整数には`aho wan`と表示し，それ以外の整数にはその値を表示するプログラムを記述せよ．以下に出力の例を示す．\n",
        "\n",
        "```\n",
        "1 2 aho 4 wan aho 7 8 aho wan 11 aho aho 14 aho wan 16 17 aho 19 wan aho 22 aho aho wan 26 aho 28 29 aho wan aho aho aho aho aho wan aho aho aho aho wan\n",
        "```"
      ]
    },
    {
      "cell_type": "code",
      "metadata": {
        "tags": [
          "hide"
        ],
        "id": "Q0P27QZmRXRr"
      },
      "source": [
        ""
      ],
      "execution_count": null,
      "outputs": []
    },
    {
      "cell_type": "markdown",
      "metadata": {
        "id": "BJhyngmORXRr"
      },
      "source": [
        "### 3.3) while文"
      ]
    },
    {
      "cell_type": "markdown",
      "metadata": {
        "id": "3P2RJiHdRXRs"
      },
      "source": [
        "[二分法](https://ja.wikipedia.org/wiki/%E4%BA%8C%E5%88%86%E6%B3%95)を使い，$f(x) = x^2 - 2 = 0$の解を$|f(x)| < 10^{-8}$の精度で求めるプログラムを記述せよ．"
      ]
    },
    {
      "cell_type": "code",
      "metadata": {
        "tags": [
          "hide"
        ],
        "id": "HkB8vvSTRXRs"
      },
      "source": [
        ""
      ],
      "execution_count": null,
      "outputs": []
    },
    {
      "cell_type": "markdown",
      "metadata": {
        "id": "4ZfoildzRXRs"
      },
      "source": [
        "## 4. 関数"
      ]
    },
    {
      "cell_type": "markdown",
      "metadata": {
        "id": "m_YmlaRuRXRs"
      },
      "source": [
        "### 4.1) 関数の定義\n",
        "\n",
        "2つの引数$x$と$y$を受け取り，$x^2 + y^2$を戻り値とするsquare関数を定義し，$x = 3, y = 4$を引数としてsquare関数を呼び出せ．"
      ]
    },
    {
      "cell_type": "code",
      "metadata": {
        "tags": [
          "hide"
        ],
        "id": "GKvqHn-7RXRs"
      },
      "source": [
        ""
      ],
      "execution_count": null,
      "outputs": []
    },
    {
      "cell_type": "markdown",
      "metadata": {
        "id": "R_To71zTRXRs"
      },
      "source": [
        "### 4.2) 再帰関数\n",
        "\n",
        "$x$と$y$を非負整数とする．以下の漸化式を再帰関数で実装し，$c_{8,6}$の値を求めよ．\n",
        "$$\n",
        "c_{x,y} = \\begin{cases}\n",
        "1 & (x = 0 \\vee y = 0) \\\\\n",
        "c_{x-1,y} + c_{x,y-1} & (\\mbox{それ以外のとき}) \\\\\n",
        "\\end{cases}\n",
        "$$"
      ]
    },
    {
      "cell_type": "code",
      "metadata": {
        "tags": [
          "hide"
        ],
        "id": "64ozFn8oRXRs"
      },
      "source": [
        ""
      ],
      "execution_count": null,
      "outputs": []
    },
    {
      "cell_type": "markdown",
      "metadata": {
        "id": "vjhkkrYSRXRs"
      },
      "source": [
        "### 4.3) 関数オブジェクト\n",
        "\n",
        "方程式$f(x)=0$の解を[二分法](https://ja.wikipedia.org/wiki/%E4%BA%8C%E5%88%86%E6%B3%95)で求める関数bisectionを実装せよ．ただし，\n",
        "\n",
        "+ 第1引数（`func`）は値$x$を引数に受け取り，関数の値$f(x)$を戻り値とする関数オブジェクト\n",
        "+ 第2引数（`a`）は二分法を行う範囲の下限\n",
        "+ 第3引数（`b`）は二分法を行う範囲の上限\n",
        "\n",
        "とせよ．また，このbisection関数を用い，$f(x) = x^2 - 2 = 0$の解を求めよ．"
      ]
    },
    {
      "cell_type": "code",
      "metadata": {
        "tags": [
          "hide"
        ],
        "id": "SotwZz9GRXRs"
      },
      "source": [
        ""
      ],
      "execution_count": null,
      "outputs": []
    },
    {
      "cell_type": "markdown",
      "metadata": {
        "id": "XtmwlPKbRXRs"
      },
      "source": [
        "## 5. リスト"
      ]
    },
    {
      "cell_type": "markdown",
      "metadata": {
        "id": "BEcl-3lKRXRs"
      },
      "source": [
        "### 5.1) リストへの要素の追加\n",
        "\n",
        "$A$を$1$以上$20$以下の$2$の倍数を小さい順に並べたリスト，$B$を$1$以上$20$以下の$3$の倍数を小さい順に並べたリストとする．$A$と$B$の両方に含まれる要素を取り出し，空のリスト$C$に追加せよ．ただし，このプログラムではリスト以外のデータ構造（辞書や集合など）を用いないこととせよ．"
      ]
    },
    {
      "cell_type": "code",
      "metadata": {
        "tags": [
          "hide"
        ],
        "id": "qxYMF0cvRXRs"
      },
      "source": [
        ""
      ],
      "execution_count": null,
      "outputs": []
    },
    {
      "cell_type": "markdown",
      "metadata": {
        "id": "8hkWUInVRXRs"
      },
      "source": [
        "### 5.2) リストの作成\n",
        "$n = (0, 1, \\dots, 16)$に対して$2^n$の値を並べたリストを作成せよ．"
      ]
    },
    {
      "cell_type": "code",
      "metadata": {
        "tags": [
          "hide"
        ],
        "id": "ljGY4dQ_RXRs"
      },
      "source": [
        ""
      ],
      "execution_count": null,
      "outputs": []
    },
    {
      "cell_type": "markdown",
      "metadata": {
        "id": "BHI8hjX8RXRs"
      },
      "source": [
        "### 5.3) 2次元配列\n",
        "\n",
        "$x$と$y$を非負整数とする．以下の漸化式を[動的計画法](https://ja.wikipedia.org/wiki/%E5%8B%95%E7%9A%84%E8%A8%88%E7%94%BB%E6%B3%95)で実装し，$c_{8,6}$の値を求めよ．\n",
        "$$\n",
        "c_{x,y} = \\begin{cases}\n",
        "1 & (x = 0 \\vee y = 0) \\\\\n",
        "c_{x-1,y} + c_{x,y-1} & (\\mbox{それ以外のとき}) \\\\\n",
        "\\end{cases}\n",
        "$$"
      ]
    },
    {
      "cell_type": "code",
      "metadata": {
        "tags": [
          "hide"
        ],
        "id": "dng6wrLfRXRs"
      },
      "source": [
        ""
      ],
      "execution_count": null,
      "outputs": []
    },
    {
      "cell_type": "markdown",
      "metadata": {
        "id": "wCkYbZyTRXRs"
      },
      "source": [
        "## 6. 文字列"
      ]
    },
    {
      "cell_type": "markdown",
      "metadata": {
        "id": "79B-tcbTRXRs"
      },
      "source": [
        "### 6.1) 「サスンリダッルパ」\n",
        "\n",
        "「サスンリダッルパ」という文字列を定義し，その文字列の1,3,5,7文字目を取り出して連結した文字列を得よ．"
      ]
    },
    {
      "cell_type": "code",
      "metadata": {
        "tags": [
          "hide"
        ],
        "id": "JKnYvSRTRXRs"
      },
      "source": [
        ""
      ],
      "execution_count": null,
      "outputs": []
    },
    {
      "cell_type": "markdown",
      "metadata": {
        "id": "R_TNXJ7IRXRs"
      },
      "source": [
        "### 6.2) 「サンダル」＋「スリッパ」＝「サスンリダッルパ」\n",
        "\n",
        "「サンダル」＋「スリッパ」の文字を先頭から交互に連結して文字列「サスンリダッルパ」を得よ．"
      ]
    },
    {
      "cell_type": "code",
      "metadata": {
        "tags": [
          "hide"
        ],
        "id": "KEN6JWxZRXRs"
      },
      "source": [
        ""
      ],
      "execution_count": null,
      "outputs": []
    },
    {
      "cell_type": "markdown",
      "metadata": {
        "id": "L0Os0fEXRXRs"
      },
      "source": [
        "### 6.3) フォーマット文字列\n",
        "\n",
        "身長 (m) を変数`h`で表し，体重 (kg) を変数`w`で表すこととする．体重を身長の二乗で割ったBMI値を求め，身長と体重，BMIの値を「身長=###.#cm, 体重=##.#kg, BMI=##.##」というフォーマットの文字列に変換せよ．ただし，#は数字を表しており，身長と体重は小数点以下1位まで，BMIは小数点以下2位までの表示とせよ．たとえば，`h=1.8`, `w=80`のときは「身長=180.0cm, 体重=80.0kg, BMI=24.69」という文字列を作成したい．"
      ]
    },
    {
      "cell_type": "code",
      "metadata": {
        "tags": [
          "hide"
        ],
        "id": "xPNtbfspRXRs"
      },
      "source": [
        ""
      ],
      "execution_count": null,
      "outputs": []
    },
    {
      "cell_type": "markdown",
      "metadata": {
        "id": "NA_pMJQ_RXRs"
      },
      "source": [
        "### 6.4) 文字列の分割\n",
        "\n",
        "\"Now I need a drink, alcoholic of course, after the heavy lectures involving quantum mechanics.\"という文を単語に分解し，各単語の（アルファベットの）文字数を先頭から出現順に並べたリストを作成せよ．"
      ]
    },
    {
      "cell_type": "code",
      "metadata": {
        "tags": [
          "hide"
        ],
        "id": "pF2XwJycRXRs"
      },
      "source": [
        ""
      ],
      "execution_count": null,
      "outputs": []
    },
    {
      "cell_type": "markdown",
      "metadata": {
        "id": "-a_5b-ktRXRs"
      },
      "source": [
        "### 6.5) Typoglycemia\n",
        "\n",
        "スペースで区切られた単語列に対して，各単語の先頭と末尾の文字は残し，それ以外の文字の順序をランダムに並び替えるプログラムを作成せよ．ただし，長さが４以下の単語は並び替えないこととする．適当な英語の文（例えば\"I couldn’t believe that I could actually understand what I was reading : the phenomenal power of the human mind .\"）を与え，その実行結果を確認せよ．"
      ]
    },
    {
      "cell_type": "code",
      "metadata": {
        "tags": [
          "hide"
        ],
        "id": "KCO4U1KdRXRs"
      },
      "source": [
        ""
      ],
      "execution_count": null,
      "outputs": []
    },
    {
      "cell_type": "markdown",
      "metadata": {
        "id": "juWN26_fRXRs"
      },
      "source": [
        "## 7. 辞書\n",
        "\n",
        "### 7-1) 出現頻度\n",
        "\"neko no ko koneko, shishi no ko kojishi.\"という文字列から全ての文字（空白や記号を含む）の出現回数を計測せよ．"
      ]
    },
    {
      "cell_type": "code",
      "metadata": {
        "tags": [
          "hide"
        ],
        "id": "_vIUracMRXRs"
      },
      "source": [
        ""
      ],
      "execution_count": null,
      "outputs": []
    },
    {
      "cell_type": "code",
      "metadata": {
        "tags": [
          "hide"
        ],
        "id": "wm3wXDELRXRs"
      },
      "source": [
        ""
      ],
      "execution_count": null,
      "outputs": []
    },
    {
      "cell_type": "code",
      "metadata": {
        "tags": [
          "hide"
        ],
        "id": "AiBjE5FSRXRs"
      },
      "source": [
        ""
      ],
      "execution_count": null,
      "outputs": []
    },
    {
      "cell_type": "markdown",
      "metadata": {
        "id": "X8Q0vmN7RXRs"
      },
      "source": [
        "### 7-2) ユニークなID番号への変換\n",
        "\"neko no ko koneko, shishi no ko kojishi.\"という文字列からスペース区切りで単語列（記号は単語から除去する）を取り出し，各単語をユニークなID番号の列に変換せよ．このとき，単語をID番号に変換するための辞書と，文字列をID番号列に変換した結果の両方を出力せよ．"
      ]
    },
    {
      "cell_type": "code",
      "metadata": {
        "tags": [
          "hide"
        ],
        "id": "yg8yXJMnRXRs"
      },
      "source": [
        ""
      ],
      "execution_count": null,
      "outputs": []
    },
    {
      "cell_type": "code",
      "metadata": {
        "tags": [
          "hide"
        ],
        "id": "aJq7EkV5RXRs"
      },
      "source": [
        ""
      ],
      "execution_count": null,
      "outputs": []
    },
    {
      "cell_type": "code",
      "metadata": {
        "tags": [
          "hide"
        ],
        "id": "uvL2b0s-RXRs"
      },
      "source": [
        ""
      ],
      "execution_count": null,
      "outputs": []
    },
    {
      "cell_type": "markdown",
      "metadata": {
        "id": "TdXYPjfkRXRs"
      },
      "source": [
        "## 8. ファイルの入出力"
      ]
    },
    {
      "cell_type": "markdown",
      "metadata": {
        "id": "GCbyvW3RRXRs"
      },
      "source": [
        "### 8.1) ファイルのダウンロード\n",
        "\n",
        "東京都が公開している[新型コロナウイルス陽性患者のCSVファイル](https://stopcovid19.metro.tokyo.lg.jp/data/130001_tokyo_covid19_patients.csv)をダウンロードせよ．"
      ]
    },
    {
      "cell_type": "code",
      "metadata": {
        "tags": [
          "hide"
        ],
        "id": "1h9cywwwRXRs"
      },
      "source": [
        ""
      ],
      "execution_count": null,
      "outputs": []
    },
    {
      "cell_type": "markdown",
      "metadata": {
        "id": "QIObpuJwRXRs"
      },
      "source": [
        "### 8.2) CSVファイルの読み込み \n",
        "\n",
        "ダウンロードしたCSVファイルを読み込み，\"患者_年代\"列で示される年代別の感染者の総数を求めよ．"
      ]
    },
    {
      "cell_type": "code",
      "metadata": {
        "tags": [
          "hide"
        ],
        "id": "nloE1JMMRXRs"
      },
      "source": [
        ""
      ],
      "execution_count": null,
      "outputs": []
    },
    {
      "cell_type": "markdown",
      "metadata": {
        "id": "EzTZAslYRXRs"
      },
      "source": [
        "### 8.3) CSVファイルの書き込み（難易度：高）\n",
        "\n",
        "ダウンロードしたCSVファイルを読み込み，公表年月日ごとに各年代の感染者数を求め，CSVファイルに保存せよ．なお，余力があればデータが欠損している日付は感染者数が0人として埋めよ．作成されると期待されるファイルの冒頭部分を以下に示す．\n",
        "\n",
        "```\n",
        "公表年月日,10歳未満,10代,20代,30代,40代,50代,60代,70代,80代,90代,100歳以上,不明,-,合計\n",
        "2020-01-24,0,0,0,0,1,0,0,0,0,0,0,0,0,1\n",
        "2020-01-25,0,0,0,1,0,0,0,0,0,0,0,0,0,1\n",
        "2020-01-26,0,0,0,0,0,0,0,0,0,0,0,0,0,0\n",
        "2020-01-27,0,0,0,0,0,0,0,0,0,0,0,0,0,0\n",
        "2020-01-28,0,0,0,0,0,0,0,0,0,0,0,0,0,0\n",
        "2020-01-29,0,0,0,0,0,0,0,0,0,0,0,0,0,0\n",
        "2020-01-30,0,0,0,1,0,0,0,0,0,0,0,0,0,1\n",
        "```\n",
        "\n",
        "2020年12月2日現在で作成したファイルを[tokyo-covid.csv](tokyo-covid.csv)として保存してあるので，実行結果の確認用に用いるとよい．"
      ]
    },
    {
      "cell_type": "code",
      "metadata": {
        "tags": [
          "hide"
        ],
        "id": "1aGMe7ypRXRs"
      },
      "source": [
        ""
      ],
      "execution_count": null,
      "outputs": []
    },
    {
      "cell_type": "code",
      "metadata": {
        "tags": [
          "hide"
        ],
        "id": "g7F9roceRXRs"
      },
      "source": [
        ""
      ],
      "execution_count": null,
      "outputs": []
    },
    {
      "cell_type": "markdown",
      "metadata": {
        "id": "4u0tJAawRXRs"
      },
      "source": [
        "## 9. NumPy"
      ]
    },
    {
      "cell_type": "markdown",
      "metadata": {
        "id": "r2QKjvgyRXRs"
      },
      "source": [
        "### 9-1) ベクトルの作成\n",
        "\n",
        "$n = 1, 2, 3, 4, 5$に対して，$1 / n^2$の値を数列として並べよ．"
      ]
    },
    {
      "cell_type": "code",
      "metadata": {
        "tags": [
          "hide"
        ],
        "id": "a0BuctCFRXRs"
      },
      "source": [
        ""
      ],
      "execution_count": null,
      "outputs": []
    },
    {
      "cell_type": "markdown",
      "metadata": {
        "id": "QlWPYFkMRXRs"
      },
      "source": [
        "### 9-2) ベクトルの和"
      ]
    },
    {
      "cell_type": "markdown",
      "metadata": {
        "id": "EyMQkvVtRXRs"
      },
      "source": [
        "$\\sqrt{6 \\displaystyle \\sum_{n = 1}^{10000} \\frac{1}{n^2}}$を計算せよ（[バーゼル問題](https://ja.wikipedia.org/wiki/%E3%83%90%E3%83%BC%E3%82%BC%E3%83%AB%E5%95%8F%E9%A1%8C)）．"
      ]
    },
    {
      "cell_type": "code",
      "metadata": {
        "tags": [
          "hide"
        ],
        "id": "NB6HdF_9RXRs"
      },
      "source": [
        ""
      ],
      "execution_count": null,
      "outputs": []
    },
    {
      "cell_type": "markdown",
      "metadata": {
        "id": "yqjAY85tRXRs"
      },
      "source": [
        "### 9-3) コサイン類似度"
      ]
    },
    {
      "cell_type": "markdown",
      "metadata": {
        "id": "Zbjaj1JqRXRs"
      },
      "source": [
        "2つの位置ベクトル $\\boldsymbol{u} = \\left(\\begin{array}{c}1 & 1 & 1\\end{array}\\right), \\boldsymbol{v} = \\left(\\begin{array}{c}1 & 2 & 3\\end{array}\\right)$ のなす角を$\\theta$とする．$\\cos \\theta$の値を求めよ．"
      ]
    },
    {
      "cell_type": "code",
      "metadata": {
        "tags": [
          "hide"
        ],
        "id": "dG1BkgLVRXRs"
      },
      "source": [
        ""
      ],
      "execution_count": null,
      "outputs": []
    },
    {
      "cell_type": "markdown",
      "metadata": {
        "id": "C-FDfX3cRXRs"
      },
      "source": [
        "### 9-4) ベクトルと行列の積\n",
        "\n",
        "$X = \\left(\\begin{array}{c}\n",
        "0 & 0 & 1  \\\\\n",
        "0 & 1 & 1 \\\\\n",
        "1 & 0 & 1 \\\\\n",
        "1 & 1 & 1 \\\\\n",
        "\\end{array}\\right),\n",
        "\\boldsymbol{w} = \\left(\\begin{array}{c}\n",
        "1 & 1 & -1.5\n",
        "\\end{array}\\right)^\\top$\n",
        "に対して，$\\max(X\\boldsymbol{w}, \\boldsymbol{0})$を計算せよ．ただし，$\\max$は複数のベクトルを引数にとり，各要素ごとの最大値を返すものとする．"
      ]
    },
    {
      "cell_type": "code",
      "metadata": {
        "tags": [
          "hide"
        ],
        "id": "FpULBJvdRXRs"
      },
      "source": [
        ""
      ],
      "execution_count": null,
      "outputs": []
    },
    {
      "cell_type": "markdown",
      "metadata": {
        "id": "QXGSpzDfRXRs"
      },
      "source": [
        "### 9-5) 行列の多項式（2007年京大文系入試問題）\n",
        "\n",
        "$A = \\left(\\begin{array}{c}\n",
        "2 & 4 \\\\\n",
        "-1 & -1 \\\\\n",
        "\\end{array}\\right),\n",
        "E = \\left(\\begin{array}{c}\n",
        "1 & 0 \\\\\n",
        "0 & 1 \\\\\n",
        "\\end{array}\\right)$とするとき，$A^6 + 2A^4 + 2A^3 + 2A^2 + 2A + 3E$を求めよ．"
      ]
    },
    {
      "cell_type": "code",
      "metadata": {
        "tags": [
          "hide"
        ],
        "id": "n7zmowWLRXRs"
      },
      "source": [
        ""
      ],
      "execution_count": null,
      "outputs": []
    },
    {
      "cell_type": "markdown",
      "metadata": {
        "id": "DuEk4LjSRXRs"
      },
      "source": [
        "## 10. グラフ"
      ]
    },
    {
      "cell_type": "markdown",
      "metadata": {
        "id": "7dKHzvw3RXRs"
      },
      "source": [
        "### 10-1) プロット\n",
        "\n",
        "(1) $\\displaystyle \\lim_{x \\to +0} x^x$を解析的に求め，その計算過程をMarkdownセルにLaTeX形式で記述せよ．"
      ]
    },
    {
      "cell_type": "markdown",
      "metadata": {
        "tags": [
          "hide"
        ],
        "id": "aKuyU9CrRXRs"
      },
      "source": [
        ""
      ]
    },
    {
      "cell_type": "markdown",
      "metadata": {
        "id": "LHOXpiHaRXRs"
      },
      "source": [
        "(2) $0 < x \\leq 1$の範囲で関数$f(x) = x^x$のグラフを描き，$\\displaystyle \\lim_{x \\to +0} x^x$を図示せよ．ただし，横軸は対数目盛とせよ．"
      ]
    },
    {
      "cell_type": "code",
      "metadata": {
        "tags": [
          "hide"
        ],
        "id": "R3-3rwxcRXRs"
      },
      "source": [
        ""
      ],
      "execution_count": null,
      "outputs": []
    },
    {
      "cell_type": "markdown",
      "metadata": {
        "id": "P7ZkPOZARXRs"
      },
      "source": [
        "(3) $\\displaystyle \\lim_{x \\to +0} \\left(e^{-1/x^2}\\right)^x$を解析的に求め，その計算過程をMarkdownセルにLaTeX形式で記述せよ．"
      ]
    },
    {
      "cell_type": "markdown",
      "metadata": {
        "tags": [
          "hide"
        ],
        "id": "aWYg3_SHRXRs"
      },
      "source": [
        ""
      ]
    },
    {
      "cell_type": "markdown",
      "metadata": {
        "id": "YAaYB7ByRXRs"
      },
      "source": [
        "(4) $0 < x \\leq 1$の範囲で関数$f(x) = \\left(e^{-1/x^2}\\right)^x$のグラフを描き，$\\displaystyle \\lim_{x \\to +0} \\left(e^{-1/x^2}\\right)^x$を図示せよ．ただし，横軸は対数目盛とせよ．"
      ]
    },
    {
      "cell_type": "code",
      "metadata": {
        "tags": [
          "hide"
        ],
        "id": "uZ3VqL7dRXRs"
      },
      "source": [
        ""
      ],
      "execution_count": null,
      "outputs": []
    },
    {
      "cell_type": "markdown",
      "metadata": {
        "id": "pLPf2wuRRXRt"
      },
      "source": [
        "### 10-2) グラフ"
      ]
    },
    {
      "cell_type": "code",
      "metadata": {
        "id": "XQfpcFAOTh4e"
      },
      "source": [
        "!wget http://www.chokkan.org/lectures/2020ml/tokyo-covid.csv"
      ],
      "execution_count": null,
      "outputs": []
    },
    {
      "cell_type": "markdown",
      "metadata": {
        "id": "5HKFiaI0RXRt"
      },
      "source": [
        "(1) 東京都のCOVID-19新規感染者報告数をCSV形式にまとめた[tokyo-covid.csv](tokyo-covid.csv)を読み込み，横軸を公表年月日，縦軸を感染者数として，年代別の感染者数の推移を折れ線グラフで表示せよ．"
      ]
    },
    {
      "cell_type": "code",
      "metadata": {
        "tags": [
          "hide"
        ],
        "id": "cfJtlAmbRXRt"
      },
      "source": [
        ""
      ],
      "execution_count": null,
      "outputs": []
    },
    {
      "cell_type": "code",
      "metadata": {
        "tags": [
          "hide"
        ],
        "id": "AWyruIpYRXRt"
      },
      "source": [
        ""
      ],
      "execution_count": null,
      "outputs": []
    },
    {
      "cell_type": "markdown",
      "metadata": {
        "id": "O3KhySGjRXRt"
      },
      "source": [
        "(2) 東京都のCOVID-19新規感染者報告数をCSV形式にまとめた[tokyo-covid.csv](tokyo-covid.csv)を読み込み，横軸を公表年月日，縦軸を感染者数として，１日の感染者数を棒グラフで示せ．"
      ]
    },
    {
      "cell_type": "code",
      "metadata": {
        "tags": [
          "hide"
        ],
        "id": "sGArs7MNRXRt"
      },
      "source": [
        ""
      ],
      "execution_count": null,
      "outputs": []
    },
    {
      "cell_type": "markdown",
      "metadata": {
        "id": "DAus1MWTRXRt"
      },
      "source": [
        "(2) 東京都のCOVID-19新規感染者報告数をCSV形式にまとめた[tokyo-covid.csv](tokyo-covid.csv)を読み込み，横軸を公表年月日，縦軸を感染者数として，１日の感染者数を折れ線グラフで示せ．このとき，7日間後方移動平均と14日間後方移動平均も折れ線グラフで示せ．"
      ]
    },
    {
      "cell_type": "code",
      "metadata": {
        "tags": [
          "hide"
        ],
        "id": "J6djr139RXRt"
      },
      "source": [
        ""
      ],
      "execution_count": null,
      "outputs": []
    }
  ]
}